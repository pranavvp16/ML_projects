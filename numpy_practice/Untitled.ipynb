{
 "cells": [
  {
   "cell_type": "code",
   "execution_count": 1,
   "id": "c02b9840",
   "metadata": {},
   "outputs": [],
   "source": [
    "import numpy as np"
   ]
  },
  {
   "cell_type": "code",
   "execution_count": 2,
   "id": "7f074e75",
   "metadata": {},
   "outputs": [],
   "source": [
    "list = [0,1,2,3,4,5,6,7,8]"
   ]
  },
  {
   "cell_type": "code",
   "execution_count": 4,
   "id": "0c6a753e",
   "metadata": {},
   "outputs": [],
   "source": [
    "array = np.array(list).reshape((3,3))"
   ]
  },
  {
   "cell_type": "code",
   "execution_count": 5,
   "id": "a8328339",
   "metadata": {},
   "outputs": [
    {
     "data": {
      "text/plain": [
       "array([[0, 1, 2],\n",
       "       [3, 4, 5],\n",
       "       [6, 7, 8]])"
      ]
     },
     "execution_count": 5,
     "metadata": {},
     "output_type": "execute_result"
    }
   ],
   "source": [
    "array"
   ]
  },
  {
   "cell_type": "code",
   "execution_count": 10,
   "id": "917a275d",
   "metadata": {},
   "outputs": [],
   "source": [
    "mean_flattened=np.mean(array)"
   ]
  },
  {
   "cell_type": "code",
   "execution_count": 11,
   "id": "fee7a5ac",
   "metadata": {},
   "outputs": [],
   "source": [
    "mean_axis1=np.mean(array,axis=0)"
   ]
  },
  {
   "cell_type": "code",
   "execution_count": 12,
   "id": "d68dc470",
   "metadata": {},
   "outputs": [],
   "source": [
    "mean_axis2=np.mean(array,axis=1)"
   ]
  },
  {
   "cell_type": "code",
   "execution_count": 13,
   "id": "3e0f7d55",
   "metadata": {},
   "outputs": [],
   "source": [
    "mean_key = [mean_axis1,mean_axis2,mean_flattened]"
   ]
  },
  {
   "cell_type": "code",
   "execution_count": 15,
   "id": "4e176d52",
   "metadata": {},
   "outputs": [
    {
     "data": {
      "text/plain": [
       "[array([3., 4., 5.]), array([1., 4., 7.]), 4.0]"
      ]
     },
     "execution_count": 15,
     "metadata": {},
     "output_type": "execute_result"
    }
   ],
   "source": [
    "mean_key"
   ]
  },
  {
   "cell_type": "code",
   "execution_count": 16,
   "id": "b7d62059",
   "metadata": {},
   "outputs": [
    {
     "data": {
      "text/plain": [
       "6.666666666666667"
      ]
     },
     "execution_count": 16,
     "metadata": {},
     "output_type": "execute_result"
    }
   ],
   "source": [
    "np.var(array)"
   ]
  },
  {
   "cell_type": "code",
   "execution_count": 17,
   "id": "d260f128",
   "metadata": {},
   "outputs": [
    {
     "data": {
      "text/plain": [
       "2.581988897471611"
      ]
     },
     "execution_count": 17,
     "metadata": {},
     "output_type": "execute_result"
    }
   ],
   "source": [
    "np.std(array)"
   ]
  },
  {
   "cell_type": "code",
   "execution_count": 24,
   "id": "2df6221c",
   "metadata": {},
   "outputs": [],
   "source": [
    "list = [0 , 1, None]"
   ]
  },
  {
   "cell_type": "code",
   "execution_count": 28,
   "id": "38717fa3",
   "metadata": {},
   "outputs": [],
   "source": [
    "mean_key = []\n",
    "var_key = []\n",
    "std_key = []\n",
    "max_key = []\n",
    "min_key = []\n",
    "sum_key = []\n",
    "for i in list:\n",
    "    value = np.mean(array,axis=i)\n",
    "    mean_key.append(value)\n",
    "    \n",
    "    value1 = np.var(array,axis=i)\n",
    "    var_key.append(value1)\n",
    "    \n",
    "    value2 = np.std(array,axis=i)\n",
    "    std_key.append(value2)\n",
    "    \n",
    "    value3 = np.max(array,axis=i)\n",
    "    max_key.append(value3)\n",
    "    \n",
    "    value4 = np.min(array,axis=i)\n",
    "    min_key.append(value4)\n",
    "    \n",
    "    value5 = np.sum(array,axis=i)\n",
    "    sum_key.append(value5)"
   ]
  },
  {
   "cell_type": "code",
   "execution_count": 30,
   "id": "a0c90ba5",
   "metadata": {},
   "outputs": [],
   "source": [
    "calculations = {'mean':mean_key,'variance':var_key,\n",
    "                   'standard-deviation':std_key,'max':max_key,'min':min_key,\n",
    "                   'sum':sum_key}"
   ]
  },
  {
   "cell_type": "code",
   "execution_count": 31,
   "id": "3a08c359",
   "metadata": {},
   "outputs": [
    {
     "data": {
      "text/plain": [
       "{'mean': [array([3., 4., 5.]), array([1., 4., 7.]), 4.0],\n",
       " 'variance': [array([6., 6., 6.]),\n",
       "  array([0.66666667, 0.66666667, 0.66666667]),\n",
       "  6.666666666666667],\n",
       " 'standard-deviation': [array([2.44948974, 2.44948974, 2.44948974]),\n",
       "  array([0.81649658, 0.81649658, 0.81649658]),\n",
       "  2.581988897471611],\n",
       " 'max': [array([6, 7, 8]), array([2, 5, 8]), 8],\n",
       " 'min': [array([0, 1, 2]), array([0, 3, 6]), 0],\n",
       " 'sum': [array([ 9, 12, 15]), array([ 3, 12, 21]), 36]}"
      ]
     },
     "execution_count": 31,
     "metadata": {},
     "output_type": "execute_result"
    }
   ],
   "source": [
    "calculations"
   ]
  },
  {
   "cell_type": "code",
   "execution_count": null,
   "id": "0e2fa7a2",
   "metadata": {},
   "outputs": [],
   "source": []
  }
 ],
 "metadata": {
  "kernelspec": {
   "display_name": "Python 3 (ipykernel)",
   "language": "python",
   "name": "python3"
  },
  "language_info": {
   "codemirror_mode": {
    "name": "ipython",
    "version": 3
   },
   "file_extension": ".py",
   "mimetype": "text/x-python",
   "name": "python",
   "nbconvert_exporter": "python",
   "pygments_lexer": "ipython3",
   "version": "3.9.13"
  }
 },
 "nbformat": 4,
 "nbformat_minor": 5
}

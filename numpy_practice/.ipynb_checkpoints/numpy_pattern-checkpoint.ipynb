{
 "cells": [
  {
   "cell_type": "code",
   "execution_count": 1,
   "id": "2b62dd0f",
   "metadata": {},
   "outputs": [],
   "source": [
    "import numpy as np "
   ]
  },
  {
   "cell_type": "markdown",
   "id": "8f7f6f81",
   "metadata": {},
   "source": [
    "creating patterns with numpy"
   ]
  },
  {
   "cell_type": "code",
   "execution_count": 2,
   "id": "11120c6b",
   "metadata": {},
   "outputs": [],
   "source": [
    "output = np.zeros((5,5))"
   ]
  },
  {
   "cell_type": "code",
   "execution_count": 3,
   "id": "ef8fc224",
   "metadata": {},
   "outputs": [
    {
     "data": {
      "text/plain": [
       "array([[0., 0., 0., 0., 0.],\n",
       "       [0., 0., 0., 0., 0.],\n",
       "       [0., 0., 0., 0., 0.],\n",
       "       [0., 0., 0., 0., 0.],\n",
       "       [0., 0., 0., 0., 0.]])"
      ]
     },
     "execution_count": 3,
     "metadata": {},
     "output_type": "execute_result"
    }
   ],
   "source": [
    "output"
   ]
  },
  {
   "cell_type": "code",
   "execution_count": 6,
   "id": "9c1471e5",
   "metadata": {},
   "outputs": [],
   "source": [
    "mid = np.ones((3,3))"
   ]
  },
  {
   "cell_type": "code",
   "execution_count": 7,
   "id": "29d90e27",
   "metadata": {},
   "outputs": [
    {
     "data": {
      "text/plain": [
       "array([[1., 1., 1.],\n",
       "       [1., 1., 1.],\n",
       "       [1., 1., 1.]])"
      ]
     },
     "execution_count": 7,
     "metadata": {},
     "output_type": "execute_result"
    }
   ],
   "source": [
    "mid"
   ]
  },
  {
   "cell_type": "code",
   "execution_count": 8,
   "id": "b505aa7b",
   "metadata": {},
   "outputs": [],
   "source": [
    "mid[1,1] = 7"
   ]
  },
  {
   "cell_type": "code",
   "execution_count": 9,
   "id": "61bd0eef",
   "metadata": {},
   "outputs": [
    {
     "data": {
      "text/plain": [
       "array([[1., 1., 1.],\n",
       "       [1., 7., 1.],\n",
       "       [1., 1., 1.]])"
      ]
     },
     "execution_count": 9,
     "metadata": {},
     "output_type": "execute_result"
    }
   ],
   "source": [
    "mid"
   ]
  },
  {
   "cell_type": "code",
   "execution_count": 10,
   "id": "d69ffd58",
   "metadata": {},
   "outputs": [],
   "source": [
    "output[1:4,1:4]=mid"
   ]
  },
  {
   "cell_type": "code",
   "execution_count": 11,
   "id": "9f7c488f",
   "metadata": {},
   "outputs": [
    {
     "data": {
      "text/plain": [
       "array([[0., 0., 0., 0., 0.],\n",
       "       [0., 1., 1., 1., 0.],\n",
       "       [0., 1., 7., 1., 0.],\n",
       "       [0., 1., 1., 1., 0.],\n",
       "       [0., 0., 0., 0., 0.]])"
      ]
     },
     "execution_count": 11,
     "metadata": {},
     "output_type": "execute_result"
    }
   ],
   "source": [
    "output"
   ]
  },
  {
   "cell_type": "markdown",
   "id": "f9dd7cce",
   "metadata": {},
   "source": [
    "The above pattern in frame a number pattern using numpy"
   ]
  },
  {
   "cell_type": "markdown",
   "id": "a59a422c",
   "metadata": {},
   "source": [
    "### Copy the numpy arrays the right way\n",
    "    When decalring directly by assingning a variable with \"=\" sign, both the variables point to the same address so change in b leads to change in a. copy() method is used to avoid such logical errors"
   ]
  },
  {
   "cell_type": "code",
   "execution_count": 23,
   "id": "cdd601f0",
   "metadata": {},
   "outputs": [
    {
     "data": {
      "text/plain": [
       "array([100,   2,   3])"
      ]
     },
     "execution_count": 23,
     "metadata": {},
     "output_type": "execute_result"
    }
   ],
   "source": [
    "a = np.array([1,2,3])\n",
    "a1 = np.array([1,2,3])\n",
    "b = a\n",
    "#wrong way to copy numpy arrays\n",
    "b[0]=100\n",
    "a"
   ]
  },
  {
   "cell_type": "code",
   "execution_count": 24,
   "id": "ed5c097d",
   "metadata": {},
   "outputs": [
    {
     "data": {
      "text/plain": [
       "array([1, 2, 3])"
      ]
     },
     "execution_count": 24,
     "metadata": {},
     "output_type": "execute_result"
    }
   ],
   "source": [
    "b = a1.copy()\n",
    "b[0]=100\n",
    "#correct way to copy numpy array\n",
    "a1"
   ]
  },
  {
   "cell_type": "markdown",
   "id": "8bc3513d",
   "metadata": {},
   "source": [
    "### Maths operations with numpy arrays "
   ]
  },
  {
   "cell_type": "code",
   "execution_count": 25,
   "id": "f44e054f",
   "metadata": {},
   "outputs": [
    {
     "data": {
      "text/plain": [
       "array([5, 6, 7, 8, 9])"
      ]
     },
     "execution_count": 25,
     "metadata": {},
     "output_type": "execute_result"
    }
   ],
   "source": [
    "a = np.array([1,2,3,4,5])\n",
    "a + 4"
   ]
  },
  {
   "cell_type": "code",
   "execution_count": 26,
   "id": "b1fce608",
   "metadata": {},
   "outputs": [
    {
     "data": {
      "text/plain": [
       "array([-3, -2, -1,  0,  1])"
      ]
     },
     "execution_count": 26,
     "metadata": {},
     "output_type": "execute_result"
    }
   ],
   "source": [
    "a - 4"
   ]
  },
  {
   "cell_type": "code",
   "execution_count": 27,
   "id": "39719b59",
   "metadata": {},
   "outputs": [
    {
     "data": {
      "text/plain": [
       "array([ 3,  6,  9, 12, 15])"
      ]
     },
     "execution_count": 27,
     "metadata": {},
     "output_type": "execute_result"
    }
   ],
   "source": [
    "a*3"
   ]
  },
  {
   "cell_type": "code",
   "execution_count": 28,
   "id": "8c185dbe",
   "metadata": {},
   "outputs": [
    {
     "data": {
      "text/plain": [
       "array([ 0.54030231, -0.41614684, -0.9899925 , -0.65364362,  0.28366219])"
      ]
     },
     "execution_count": 28,
     "metadata": {},
     "output_type": "execute_result"
    }
   ],
   "source": [
    "#We can also get sin and cos values of numpy arrays\n",
    "np.cos(a)"
   ]
  },
  {
   "cell_type": "code",
   "execution_count": 29,
   "id": "e47d7240",
   "metadata": {},
   "outputs": [
    {
     "data": {
      "text/plain": [
       "array([ 0.84147098,  0.90929743,  0.14112001, -0.7568025 , -0.95892427])"
      ]
     },
     "execution_count": 29,
     "metadata": {},
     "output_type": "execute_result"
    }
   ],
   "source": [
    "np.sin(a)"
   ]
  },
  {
   "cell_type": "code",
   "execution_count": 32,
   "id": "c698c66a",
   "metadata": {},
   "outputs": [],
   "source": [
    "#Multiplication of numpy arrays (Matrix type)\n",
    "matrix1 = np.ones((3,3))\n",
    "matrix2 = np.full((3,2),3)"
   ]
  },
  {
   "cell_type": "code",
   "execution_count": 33,
   "id": "4e3defd7",
   "metadata": {},
   "outputs": [
    {
     "data": {
      "text/plain": [
       "array([[9., 9.],\n",
       "       [9., 9.],\n",
       "       [9., 9.]])"
      ]
     },
     "execution_count": 33,
     "metadata": {},
     "output_type": "execute_result"
    }
   ],
   "source": [
    "np.matmul(matrix1,matrix2)"
   ]
  },
  {
   "cell_type": "markdown",
   "id": "47028daa",
   "metadata": {},
   "source": [
    "#### Indexing with numpy"
   ]
  },
  {
   "cell_type": "code",
   "execution_count": null,
   "id": "f36a337f",
   "metadata": {},
   "outputs": [],
   "source": []
  }
 ],
 "metadata": {
  "kernelspec": {
   "display_name": "Python 3 (ipykernel)",
   "language": "python",
   "name": "python3"
  },
  "language_info": {
   "codemirror_mode": {
    "name": "ipython",
    "version": 3
   },
   "file_extension": ".py",
   "mimetype": "text/x-python",
   "name": "python",
   "nbconvert_exporter": "python",
   "pygments_lexer": "ipython3",
   "version": "3.9.13"
  }
 },
 "nbformat": 4,
 "nbformat_minor": 5
}

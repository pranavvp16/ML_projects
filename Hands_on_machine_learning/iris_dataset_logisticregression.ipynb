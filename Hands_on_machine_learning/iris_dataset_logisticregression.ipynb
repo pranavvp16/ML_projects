{
 "cells": [
  {
   "cell_type": "code",
   "execution_count": 19,
   "id": "a998774d",
   "metadata": {},
   "outputs": [],
   "source": [
    "from sklearn import datasets\n",
    "import numpy as np"
   ]
  },
  {
   "cell_type": "code",
   "execution_count": 26,
   "id": "b16edc33",
   "metadata": {},
   "outputs": [],
   "source": [
    "iris = datasets.load_iris()"
   ]
  },
  {
   "cell_type": "code",
   "execution_count": 3,
   "id": "b748e2dd",
   "metadata": {},
   "outputs": [
    {
     "data": {
      "text/plain": [
       "['data',\n",
       " 'target',\n",
       " 'frame',\n",
       " 'target_names',\n",
       " 'DESCR',\n",
       " 'feature_names',\n",
       " 'filename',\n",
       " 'data_module']"
      ]
     },
     "execution_count": 3,
     "metadata": {},
     "output_type": "execute_result"
    }
   ],
   "source": [
    "list(iris.keys())"
   ]
  },
  {
   "cell_type": "code",
   "execution_count": 15,
   "id": "1763cd3f",
   "metadata": {},
   "outputs": [],
   "source": [
    "X = iris[\"data\"][:,3:] # petal width"
   ]
  },
  {
   "cell_type": "code",
   "execution_count": 22,
   "id": "b7e8b67a",
   "metadata": {},
   "outputs": [],
   "source": [
    "y=(iris[\"target\"] == 2).astype(np.int32) # 1 if Iris virginca ,else 0(non-virginca)"
   ]
  },
  {
   "cell_type": "code",
   "execution_count": 23,
   "id": "a16cd876",
   "metadata": {},
   "outputs": [],
   "source": [
    "#train logistic regression on the created dataset"
   ]
  },
  {
   "cell_type": "code",
   "execution_count": 25,
   "id": "5ae031dd",
   "metadata": {},
   "outputs": [
    {
     "data": {
      "text/html": [
       "<style>#sk-container-id-1 {color: black;background-color: white;}#sk-container-id-1 pre{padding: 0;}#sk-container-id-1 div.sk-toggleable {background-color: white;}#sk-container-id-1 label.sk-toggleable__label {cursor: pointer;display: block;width: 100%;margin-bottom: 0;padding: 0.3em;box-sizing: border-box;text-align: center;}#sk-container-id-1 label.sk-toggleable__label-arrow:before {content: \"▸\";float: left;margin-right: 0.25em;color: #696969;}#sk-container-id-1 label.sk-toggleable__label-arrow:hover:before {color: black;}#sk-container-id-1 div.sk-estimator:hover label.sk-toggleable__label-arrow:before {color: black;}#sk-container-id-1 div.sk-toggleable__content {max-height: 0;max-width: 0;overflow: hidden;text-align: left;background-color: #f0f8ff;}#sk-container-id-1 div.sk-toggleable__content pre {margin: 0.2em;color: black;border-radius: 0.25em;background-color: #f0f8ff;}#sk-container-id-1 input.sk-toggleable__control:checked~div.sk-toggleable__content {max-height: 200px;max-width: 100%;overflow: auto;}#sk-container-id-1 input.sk-toggleable__control:checked~label.sk-toggleable__label-arrow:before {content: \"▾\";}#sk-container-id-1 div.sk-estimator input.sk-toggleable__control:checked~label.sk-toggleable__label {background-color: #d4ebff;}#sk-container-id-1 div.sk-label input.sk-toggleable__control:checked~label.sk-toggleable__label {background-color: #d4ebff;}#sk-container-id-1 input.sk-hidden--visually {border: 0;clip: rect(1px 1px 1px 1px);clip: rect(1px, 1px, 1px, 1px);height: 1px;margin: -1px;overflow: hidden;padding: 0;position: absolute;width: 1px;}#sk-container-id-1 div.sk-estimator {font-family: monospace;background-color: #f0f8ff;border: 1px dotted black;border-radius: 0.25em;box-sizing: border-box;margin-bottom: 0.5em;}#sk-container-id-1 div.sk-estimator:hover {background-color: #d4ebff;}#sk-container-id-1 div.sk-parallel-item::after {content: \"\";width: 100%;border-bottom: 1px solid gray;flex-grow: 1;}#sk-container-id-1 div.sk-label:hover label.sk-toggleable__label {background-color: #d4ebff;}#sk-container-id-1 div.sk-serial::before {content: \"\";position: absolute;border-left: 1px solid gray;box-sizing: border-box;top: 0;bottom: 0;left: 50%;z-index: 0;}#sk-container-id-1 div.sk-serial {display: flex;flex-direction: column;align-items: center;background-color: white;padding-right: 0.2em;padding-left: 0.2em;position: relative;}#sk-container-id-1 div.sk-item {position: relative;z-index: 1;}#sk-container-id-1 div.sk-parallel {display: flex;align-items: stretch;justify-content: center;background-color: white;position: relative;}#sk-container-id-1 div.sk-item::before, #sk-container-id-1 div.sk-parallel-item::before {content: \"\";position: absolute;border-left: 1px solid gray;box-sizing: border-box;top: 0;bottom: 0;left: 50%;z-index: -1;}#sk-container-id-1 div.sk-parallel-item {display: flex;flex-direction: column;z-index: 1;position: relative;background-color: white;}#sk-container-id-1 div.sk-parallel-item:first-child::after {align-self: flex-end;width: 50%;}#sk-container-id-1 div.sk-parallel-item:last-child::after {align-self: flex-start;width: 50%;}#sk-container-id-1 div.sk-parallel-item:only-child::after {width: 0;}#sk-container-id-1 div.sk-dashed-wrapped {border: 1px dashed gray;margin: 0 0.4em 0.5em 0.4em;box-sizing: border-box;padding-bottom: 0.4em;background-color: white;}#sk-container-id-1 div.sk-label label {font-family: monospace;font-weight: bold;display: inline-block;line-height: 1.2em;}#sk-container-id-1 div.sk-label-container {text-align: center;}#sk-container-id-1 div.sk-container {/* jupyter's `normalize.less` sets `[hidden] { display: none; }` but bootstrap.min.css set `[hidden] { display: none !important; }` so we also need the `!important` here to be able to override the default hidden behavior on the sphinx rendered scikit-learn.org. See: https://github.com/scikit-learn/scikit-learn/issues/21755 */display: inline-block !important;position: relative;}#sk-container-id-1 div.sk-text-repr-fallback {display: none;}</style><div id=\"sk-container-id-1\" class=\"sk-top-container\"><div class=\"sk-text-repr-fallback\"><pre>LogisticRegression()</pre><b>In a Jupyter environment, please rerun this cell to show the HTML representation or trust the notebook. <br />On GitHub, the HTML representation is unable to render, please try loading this page with nbviewer.org.</b></div><div class=\"sk-container\" hidden><div class=\"sk-item\"><div class=\"sk-estimator sk-toggleable\"><input class=\"sk-toggleable__control sk-hidden--visually\" id=\"sk-estimator-id-1\" type=\"checkbox\" checked><label for=\"sk-estimator-id-1\" class=\"sk-toggleable__label sk-toggleable__label-arrow\">LogisticRegression</label><div class=\"sk-toggleable__content\"><pre>LogisticRegression()</pre></div></div></div></div></div>"
      ],
      "text/plain": [
       "LogisticRegression()"
      ]
     },
     "execution_count": 25,
     "metadata": {},
     "output_type": "execute_result"
    }
   ],
   "source": [
    "from sklearn.linear_model import LogisticRegression\n",
    "\n",
    "log_reg = LogisticRegression()\n",
    "log_reg.fit(X,y)"
   ]
  },
  {
   "cell_type": "code",
   "execution_count": 47,
   "id": "4b2160dc",
   "metadata": {},
   "outputs": [
    {
     "data": {
      "text/plain": [
       "array([7.49984089e-04, 7.59799387e-04, 7.69743043e-04, 7.79816732e-04,\n",
       "       7.90022153e-04, 8.00361024e-04, 8.10835088e-04, 8.21446109e-04,\n",
       "       8.32195877e-04, 8.43086202e-04, 8.54118919e-04, 8.65295886e-04,\n",
       "       8.76618985e-04, 8.88090125e-04, 8.99711238e-04, 9.11484280e-04,\n",
       "       9.23411234e-04, 9.35494108e-04, 9.47734937e-04, 9.60135782e-04,\n",
       "       9.72698731e-04, 9.85425898e-04, 9.98319426e-04, 1.01138149e-03,\n",
       "       1.02461427e-03, 1.03802002e-03, 1.05160097e-03, 1.06535943e-03,\n",
       "       1.07929769e-03, 1.09341812e-03, 1.10772307e-03, 1.12221497e-03,\n",
       "       1.13689623e-03, 1.15176935e-03, 1.16683681e-03, 1.18210115e-03,\n",
       "       1.19756493e-03, 1.21323076e-03, 1.22910127e-03, 1.24517913e-03,\n",
       "       1.26146703e-03, 1.27796772e-03, 1.29468397e-03, 1.31161859e-03,\n",
       "       1.32877442e-03, 1.34615434e-03, 1.36376127e-03, 1.38159818e-03,\n",
       "       1.39966805e-03, 1.41797392e-03, 1.43651886e-03, 1.45530599e-03,\n",
       "       1.47433846e-03, 1.49361946e-03, 1.51315223e-03, 1.53294005e-03,\n",
       "       1.55298624e-03, 1.57329416e-03, 1.59386721e-03, 1.61470885e-03,\n",
       "       1.63582257e-03, 1.65721191e-03, 1.67888047e-03, 1.70083186e-03,\n",
       "       1.72306977e-03, 1.74559793e-03, 1.76842010e-03, 1.79154013e-03,\n",
       "       1.81496187e-03, 1.83868925e-03, 1.86272625e-03, 1.88707688e-03,\n",
       "       1.91174523e-03, 1.93673543e-03, 1.96205165e-03, 1.98769814e-03,\n",
       "       2.01367918e-03, 2.03999913e-03, 2.06666238e-03, 2.09367339e-03,\n",
       "       2.12103669e-03, 2.14875684e-03, 2.17683847e-03, 2.20528629e-03,\n",
       "       2.23410505e-03, 2.26329955e-03, 2.29287468e-03, 2.32283538e-03,\n",
       "       2.35318665e-03, 2.38393355e-03, 2.41508123e-03, 2.44663486e-03,\n",
       "       2.47859974e-03, 2.51098117e-03, 2.54378457e-03, 2.57701541e-03,\n",
       "       2.61067922e-03, 2.64478162e-03, 2.67932829e-03, 2.71432499e-03,\n",
       "       2.74977755e-03, 2.78569187e-03, 2.82207393e-03, 2.85892979e-03,\n",
       "       2.89626559e-03, 2.93408753e-03, 2.97240191e-03, 3.01121511e-03,\n",
       "       3.05053357e-03, 3.09036383e-03, 3.13071252e-03, 3.17158633e-03,\n",
       "       3.21299207e-03, 3.25493660e-03, 3.29742688e-03, 3.34046999e-03,\n",
       "       3.38407305e-03, 3.42824330e-03, 3.47298807e-03, 3.51831478e-03,\n",
       "       3.56423094e-03, 3.61074417e-03, 3.65786216e-03, 3.70559273e-03,\n",
       "       3.75394378e-03, 3.80292330e-03, 3.85253942e-03, 3.90280034e-03,\n",
       "       3.95371436e-03, 4.00528991e-03, 4.05753552e-03, 4.11045982e-03,\n",
       "       4.16407154e-03, 4.21837955e-03, 4.27339280e-03, 4.32912038e-03,\n",
       "       4.38557149e-03, 4.44275542e-03, 4.50068160e-03, 4.55935960e-03,\n",
       "       4.61879906e-03, 4.67900977e-03, 4.74000166e-03, 4.80178476e-03,\n",
       "       4.86436922e-03, 4.92776535e-03, 4.99198355e-03, 5.05703439e-03,\n",
       "       5.12292855e-03, 5.18967684e-03, 5.25729022e-03, 5.32577979e-03,\n",
       "       5.39515676e-03, 5.46543252e-03, 5.53661857e-03, 5.60872657e-03,\n",
       "       5.68176834e-03, 5.75575581e-03, 5.83070109e-03, 5.90661643e-03,\n",
       "       5.98351423e-03, 6.06140706e-03, 6.14030762e-03, 6.22022879e-03,\n",
       "       6.30118361e-03, 6.38318527e-03, 6.46624713e-03, 6.55038272e-03,\n",
       "       6.63560572e-03, 6.72193001e-03, 6.80936961e-03, 6.89793874e-03,\n",
       "       6.98765178e-03, 7.07852328e-03, 7.17056800e-03, 7.26380086e-03,\n",
       "       7.35823696e-03, 7.45389160e-03, 7.55078026e-03, 7.64891861e-03,\n",
       "       7.74832252e-03, 7.84900804e-03, 7.95099144e-03, 8.05428917e-03,\n",
       "       8.15891788e-03, 8.26489444e-03, 8.37223592e-03, 8.48095959e-03,\n",
       "       8.59108293e-03, 8.70262365e-03, 8.81559966e-03, 8.93002910e-03,\n",
       "       9.04593031e-03, 9.16332187e-03, 9.28222259e-03, 9.40265149e-03,\n",
       "       9.52462783e-03, 9.64817110e-03, 9.77330103e-03, 9.90003759e-03,\n",
       "       1.00284010e-02, 1.01584116e-02, 1.02900903e-02, 1.04234578e-02,\n",
       "       1.05585355e-02, 1.06953447e-02, 1.08339071e-02, 1.09742448e-02,\n",
       "       1.11163799e-02, 1.12603350e-02, 1.14061327e-02, 1.15537962e-02,\n",
       "       1.17033486e-02, 1.18548137e-02, 1.20082152e-02, 1.21635773e-02,\n",
       "       1.23209244e-02, 1.24802812e-02, 1.26416728e-02, 1.28051243e-02,\n",
       "       1.29706614e-02, 1.31383101e-02, 1.33080964e-02, 1.34800468e-02,\n",
       "       1.36541883e-02, 1.38305479e-02, 1.40091530e-02, 1.41900313e-02,\n",
       "       1.43732111e-02, 1.45587206e-02, 1.47465885e-02, 1.49368440e-02,\n",
       "       1.51295164e-02, 1.53246355e-02, 1.55222313e-02, 1.57223342e-02,\n",
       "       1.59249749e-02, 1.61301847e-02, 1.63379948e-02, 1.65484373e-02,\n",
       "       1.67615441e-02, 1.69773479e-02, 1.71958816e-02, 1.74171785e-02,\n",
       "       1.76412721e-02, 1.78681965e-02, 1.80979861e-02, 1.83306758e-02,\n",
       "       1.85663006e-02, 1.88048961e-02, 1.90464984e-02, 1.92911436e-02,\n",
       "       1.95388687e-02, 1.97897107e-02, 2.00437072e-02, 2.03008961e-02,\n",
       "       2.05613160e-02, 2.08250054e-02, 2.10920038e-02, 2.13623507e-02,\n",
       "       2.16360861e-02, 2.19132506e-02, 2.21938852e-02, 2.24780311e-02,\n",
       "       2.27657302e-02, 2.30570248e-02, 2.33519575e-02, 2.36505715e-02,\n",
       "       2.39529104e-02, 2.42590182e-02, 2.45689394e-02, 2.48827191e-02,\n",
       "       2.52004027e-02, 2.55220360e-02, 2.58476656e-02, 2.61773381e-02,\n",
       "       2.65111010e-02, 2.68490021e-02, 2.71910896e-02, 2.75374124e-02,\n",
       "       2.78880198e-02, 2.82429614e-02, 2.86022876e-02, 2.89660491e-02,\n",
       "       2.93342972e-02, 2.97070837e-02, 3.00844608e-02, 3.04664812e-02,\n",
       "       3.08531984e-02, 3.12446661e-02, 3.16409385e-02, 3.20420706e-02,\n",
       "       3.24481177e-02, 3.28591357e-02, 3.32751809e-02, 3.36963104e-02,\n",
       "       3.41225816e-02, 3.45540524e-02, 3.49907814e-02, 3.54328276e-02,\n",
       "       3.58802507e-02, 3.63331107e-02, 3.67914683e-02, 3.72553848e-02,\n",
       "       3.77249219e-02, 3.82001418e-02, 3.86811074e-02, 3.91678821e-02,\n",
       "       3.96605298e-02, 4.01591149e-02, 4.06637025e-02, 4.11743582e-02,\n",
       "       4.16911479e-02, 4.22141385e-02, 4.27433970e-02, 4.32789913e-02,\n",
       "       4.38209896e-02, 4.43694607e-02, 4.49244741e-02, 4.54860996e-02,\n",
       "       4.60544078e-02, 4.66294695e-02, 4.72113565e-02, 4.78001407e-02,\n",
       "       4.83958948e-02, 4.89986920e-02, 4.96086060e-02, 5.02257109e-02,\n",
       "       5.08500815e-02, 5.14817932e-02, 5.21209217e-02, 5.27675433e-02,\n",
       "       5.34217350e-02, 5.40835739e-02, 5.47531381e-02, 5.54305058e-02,\n",
       "       5.61157560e-02, 5.68089680e-02, 5.75102216e-02, 5.82195973e-02,\n",
       "       5.89371757e-02, 5.96630383e-02, 6.03972667e-02, 6.11399433e-02,\n",
       "       6.18911507e-02, 6.26509720e-02, 6.34194908e-02, 6.41967911e-02,\n",
       "       6.49829574e-02, 6.57780746e-02, 6.65822278e-02, 6.73955027e-02,\n",
       "       6.82179855e-02, 6.90497626e-02, 6.98909207e-02, 7.07415471e-02,\n",
       "       7.16017293e-02, 7.24715552e-02, 7.33511130e-02, 7.42404911e-02,\n",
       "       7.51397785e-02, 7.60490643e-02, 7.69684379e-02, 7.78979888e-02,\n",
       "       7.88378072e-02, 7.97879831e-02, 8.07486069e-02, 8.17197693e-02,\n",
       "       8.27015610e-02, 8.36940731e-02, 8.46973966e-02, 8.57116228e-02,\n",
       "       8.67368432e-02, 8.77731492e-02, 8.88206326e-02, 8.98793849e-02,\n",
       "       9.09494980e-02, 9.20310637e-02, 9.31241736e-02, 9.42289196e-02,\n",
       "       9.53453936e-02, 9.64736871e-02, 9.76138919e-02, 9.87660994e-02,\n",
       "       9.99304013e-02, 1.01106889e-01, 1.02295653e-01, 1.03496784e-01,\n",
       "       1.04710374e-01, 1.05936513e-01, 1.07175291e-01, 1.08426798e-01,\n",
       "       1.09691123e-01, 1.10968357e-01, 1.12258587e-01, 1.13561903e-01,\n",
       "       1.14878391e-01, 1.16208141e-01, 1.17551239e-01, 1.18907771e-01,\n",
       "       1.20277824e-01, 1.21661483e-01, 1.23058833e-01, 1.24469958e-01,\n",
       "       1.25894941e-01, 1.27333865e-01, 1.28786813e-01, 1.30253865e-01,\n",
       "       1.31735102e-01, 1.33230602e-01, 1.34740446e-01, 1.36264710e-01,\n",
       "       1.37803471e-01, 1.39356805e-01, 1.40924787e-01, 1.42507490e-01,\n",
       "       1.44104985e-01, 1.45717346e-01, 1.47344641e-01, 1.48986940e-01,\n",
       "       1.50644310e-01, 1.52316816e-01, 1.54004525e-01, 1.55707499e-01,\n",
       "       1.57425800e-01, 1.59159489e-01, 1.60908624e-01, 1.62673263e-01,\n",
       "       1.64453461e-01, 1.66249273e-01, 1.68060750e-01, 1.69887944e-01,\n",
       "       1.71730903e-01, 1.73589673e-01, 1.75464300e-01, 1.77354828e-01,\n",
       "       1.79261295e-01, 1.81183743e-01, 1.83122208e-01, 1.85076724e-01,\n",
       "       1.87047325e-01, 1.89034041e-01, 1.91036899e-01, 1.93055927e-01,\n",
       "       1.95091147e-01, 1.97142581e-01, 1.99210248e-01, 2.01294164e-01,\n",
       "       2.03394342e-01, 2.05510794e-01, 2.07643529e-01, 2.09792552e-01,\n",
       "       2.11957867e-01, 2.14139474e-01, 2.16337372e-01, 2.18551554e-01,\n",
       "       2.20782014e-01, 2.23028741e-01, 2.25291720e-01, 2.27570936e-01,\n",
       "       2.29866368e-01, 2.32177994e-01, 2.34505788e-01, 2.36849721e-01,\n",
       "       2.39209761e-01, 2.41585873e-01, 2.43978018e-01, 2.46386155e-01,\n",
       "       2.48810238e-01, 2.51250220e-01, 2.53706048e-01, 2.56177667e-01,\n",
       "       2.58665020e-01, 2.61168043e-01, 2.63686673e-01, 2.66220839e-01,\n",
       "       2.68770470e-01, 2.71335490e-01, 2.73915820e-01, 2.76511376e-01,\n",
       "       2.79122072e-01, 2.81747818e-01, 2.84388520e-01, 2.87044081e-01,\n",
       "       2.89714400e-01, 2.92399373e-01, 2.95098891e-01, 2.97812842e-01,\n",
       "       3.00541111e-01, 3.03283579e-01, 3.06040122e-01, 3.08810615e-01,\n",
       "       3.11594927e-01, 3.14392924e-01, 3.17204468e-01, 3.20029420e-01,\n",
       "       3.22867633e-01, 3.25718960e-01, 3.28583249e-01, 3.31460344e-01,\n",
       "       3.34350086e-01, 3.37252312e-01, 3.40166856e-01, 3.43093548e-01,\n",
       "       3.46032216e-01, 3.48982682e-01, 3.51944767e-01, 3.54918287e-01,\n",
       "       3.57903055e-01, 3.60898880e-01, 3.63905571e-01, 3.66922929e-01,\n",
       "       3.69950755e-01, 3.72988846e-01, 3.76036995e-01, 3.79094994e-01,\n",
       "       3.82162630e-01, 3.85239687e-01, 3.88325949e-01, 3.91421192e-01,\n",
       "       3.94525194e-01, 3.97637728e-01, 4.00758564e-01, 4.03887471e-01,\n",
       "       4.07024214e-01, 4.10168556e-01, 4.13320257e-01, 4.16479075e-01,\n",
       "       4.19644768e-01, 4.22817087e-01, 4.25995784e-01, 4.29180609e-01,\n",
       "       4.32371309e-01, 4.35567630e-01, 4.38769315e-01, 4.41976106e-01,\n",
       "       4.45187742e-01, 4.48403964e-01, 4.51624506e-01, 4.54849106e-01,\n",
       "       4.58077497e-01, 4.61309412e-01, 4.64544583e-01, 4.67782740e-01,\n",
       "       4.71023613e-01, 4.74266931e-01, 4.77512422e-01, 4.80759813e-01,\n",
       "       4.84008830e-01, 4.87259199e-01, 4.90510647e-01, 4.93762897e-01,\n",
       "       4.97015676e-01, 5.00268707e-01, 5.03521715e-01, 5.06774425e-01,\n",
       "       5.10026562e-01, 5.13277850e-01, 5.16528015e-01, 5.19776783e-01,\n",
       "       5.23023878e-01, 5.26269029e-01, 5.29511962e-01, 5.32752405e-01,\n",
       "       5.35990088e-01, 5.39224739e-01, 5.42456091e-01, 5.45683873e-01,\n",
       "       5.48907821e-01, 5.52127668e-01, 5.55343150e-01, 5.58554004e-01,\n",
       "       5.61759969e-01, 5.64960786e-01, 5.68156196e-01, 5.71345943e-01,\n",
       "       5.74529773e-01, 5.77707434e-01, 5.80878675e-01, 5.84043249e-01,\n",
       "       5.87200908e-01, 5.90351410e-01, 5.93494513e-01, 5.96629978e-01,\n",
       "       5.99757568e-01, 6.02877048e-01, 6.05988188e-01, 6.09090759e-01,\n",
       "       6.12184534e-01, 6.15269290e-01, 6.18344806e-01, 6.21410864e-01,\n",
       "       6.24467250e-01, 6.27513753e-01, 6.30550162e-01, 6.33576272e-01,\n",
       "       6.36591882e-01, 6.39596791e-01, 6.42590803e-01, 6.45573726e-01,\n",
       "       6.48545369e-01, 6.51505547e-01, 6.54454077e-01, 6.57390778e-01,\n",
       "       6.60315475e-01, 6.63227996e-01, 6.66128171e-01, 6.69015835e-01,\n",
       "       6.71890825e-01, 6.74752983e-01, 6.77602154e-01, 6.80438187e-01,\n",
       "       6.83260933e-01, 6.86070250e-01, 6.88865995e-01, 6.91648033e-01,\n",
       "       6.94416230e-01, 6.97170457e-01, 6.99910587e-01, 7.02636499e-01,\n",
       "       7.05348074e-01, 7.08045196e-01, 7.10727755e-01, 7.13395644e-01,\n",
       "       7.16048757e-01, 7.18686995e-01, 7.21310261e-01, 7.23918462e-01,\n",
       "       7.26511509e-01, 7.29089314e-01, 7.31651797e-01, 7.34198879e-01,\n",
       "       7.36730483e-01, 7.39246539e-01, 7.41746979e-01, 7.44231736e-01,\n",
       "       7.46700751e-01, 7.49153965e-01, 7.51591323e-01, 7.54012775e-01,\n",
       "       7.56418273e-01, 7.58807772e-01, 7.61181232e-01, 7.63538613e-01,\n",
       "       7.65879882e-01, 7.68205007e-01, 7.70513960e-01, 7.72806714e-01,\n",
       "       7.75083249e-01, 7.77343544e-01, 7.79587585e-01, 7.81815356e-01,\n",
       "       7.84026849e-01, 7.86222056e-01, 7.88400972e-01, 7.90563595e-01,\n",
       "       7.92709927e-01, 7.94839971e-01, 7.96953734e-01, 7.99051225e-01,\n",
       "       8.01132455e-01, 8.03197439e-01, 8.05246193e-01, 8.07278737e-01,\n",
       "       8.09295091e-01, 8.11295281e-01, 8.13279333e-01, 8.15247274e-01,\n",
       "       8.17199137e-01, 8.19134953e-01, 8.21054758e-01, 8.22958590e-01,\n",
       "       8.24846487e-01, 8.26718492e-01, 8.28574647e-01, 8.30414998e-01,\n",
       "       8.32239592e-01, 8.34048478e-01, 8.35841707e-01, 8.37619331e-01,\n",
       "       8.39381405e-01, 8.41127984e-01, 8.42859127e-01, 8.44574891e-01,\n",
       "       8.46275339e-01, 8.47960532e-01, 8.49630533e-01, 8.51285409e-01,\n",
       "       8.52925224e-01, 8.54550047e-01, 8.56159947e-01, 8.57754995e-01,\n",
       "       8.59335260e-01, 8.60900817e-01, 8.62451738e-01, 8.63988099e-01,\n",
       "       8.65509976e-01, 8.67017445e-01, 8.68510583e-01, 8.69989471e-01,\n",
       "       8.71454187e-01, 8.72904813e-01, 8.74341428e-01, 8.75764116e-01,\n",
       "       8.77172960e-01, 8.78568042e-01, 8.79949447e-01, 8.81317261e-01,\n",
       "       8.82671568e-01, 8.84012454e-01, 8.85340007e-01, 8.86654314e-01,\n",
       "       8.87955462e-01, 8.89243539e-01, 8.90518634e-01, 8.91780835e-01,\n",
       "       8.93030233e-01, 8.94266917e-01, 8.95490976e-01, 8.96702502e-01,\n",
       "       8.97901584e-01, 8.99088314e-01, 9.00262782e-01, 9.01425079e-01,\n",
       "       9.02575298e-01, 9.03713528e-01, 9.04839863e-01, 9.05954393e-01,\n",
       "       9.07057210e-01, 9.08148407e-01, 9.09228074e-01, 9.10296304e-01,\n",
       "       9.11353189e-01, 9.12398819e-01, 9.13433287e-01, 9.14456685e-01,\n",
       "       9.15469104e-01, 9.16470635e-01, 9.17461370e-01, 9.18441399e-01,\n",
       "       9.19410814e-01, 9.20369706e-01, 9.21318165e-01, 9.22256281e-01,\n",
       "       9.23184144e-01, 9.24101845e-01, 9.25009473e-01, 9.25907117e-01,\n",
       "       9.26794867e-01, 9.27672811e-01, 9.28541037e-01, 9.29399635e-01,\n",
       "       9.30248691e-01, 9.31088293e-01, 9.31918529e-01, 9.32739485e-01,\n",
       "       9.33551247e-01, 9.34353901e-01, 9.35147534e-01, 9.35932230e-01,\n",
       "       9.36708073e-01, 9.37475150e-01, 9.38233542e-01, 9.38983334e-01,\n",
       "       9.39724610e-01, 9.40457450e-01, 9.41181939e-01, 9.41898157e-01,\n",
       "       9.42606185e-01, 9.43306105e-01, 9.43997996e-01, 9.44681938e-01,\n",
       "       9.45358011e-01, 9.46026294e-01, 9.46686864e-01, 9.47339800e-01,\n",
       "       9.47985178e-01, 9.48623076e-01, 9.49253570e-01, 9.49876735e-01,\n",
       "       9.50492647e-01, 9.51101380e-01, 9.51703009e-01, 9.52297606e-01,\n",
       "       9.52885246e-01, 9.53466001e-01, 9.54039942e-01, 9.54607141e-01,\n",
       "       9.55167669e-01, 9.55721597e-01, 9.56268994e-01, 9.56809930e-01,\n",
       "       9.57344473e-01, 9.57872691e-01, 9.58394653e-01, 9.58910424e-01,\n",
       "       9.59420073e-01, 9.59923665e-01, 9.60421264e-01, 9.60912937e-01,\n",
       "       9.61398748e-01, 9.61878760e-01, 9.62353037e-01, 9.62821641e-01,\n",
       "       9.63284635e-01, 9.63742080e-01, 9.64194038e-01, 9.64640569e-01,\n",
       "       9.65081732e-01, 9.65517589e-01, 9.65948196e-01, 9.66373614e-01,\n",
       "       9.66793900e-01, 9.67209111e-01, 9.67619303e-01, 9.68024535e-01,\n",
       "       9.68424860e-01, 9.68820335e-01, 9.69211014e-01, 9.69596952e-01,\n",
       "       9.69978202e-01, 9.70354817e-01, 9.70726850e-01, 9.71094353e-01,\n",
       "       9.71457378e-01, 9.71815977e-01, 9.72170199e-01, 9.72520095e-01,\n",
       "       9.72865715e-01, 9.73207107e-01, 9.73544321e-01, 9.73877405e-01,\n",
       "       9.74206407e-01, 9.74531373e-01, 9.74852350e-01, 9.75169386e-01,\n",
       "       9.75482525e-01, 9.75791813e-01, 9.76097295e-01, 9.76399016e-01,\n",
       "       9.76697019e-01, 9.76991347e-01, 9.77282045e-01, 9.77569154e-01,\n",
       "       9.77852717e-01, 9.78132776e-01, 9.78409371e-01, 9.78682544e-01,\n",
       "       9.78952335e-01, 9.79218784e-01, 9.79481930e-01, 9.79741814e-01,\n",
       "       9.79998473e-01, 9.80251945e-01, 9.80502270e-01, 9.80749484e-01,\n",
       "       9.80993624e-01, 9.81234727e-01, 9.81472829e-01, 9.81707966e-01,\n",
       "       9.81940175e-01, 9.82169489e-01, 9.82395943e-01, 9.82619572e-01,\n",
       "       9.82840410e-01, 9.83058491e-01, 9.83273847e-01, 9.83486511e-01,\n",
       "       9.83696517e-01, 9.83903895e-01, 9.84108678e-01, 9.84310897e-01,\n",
       "       9.84510584e-01, 9.84707769e-01, 9.84902481e-01, 9.85094752e-01,\n",
       "       9.85284612e-01, 9.85472088e-01, 9.85657211e-01, 9.85840008e-01,\n",
       "       9.86020509e-01, 9.86198741e-01, 9.86374732e-01, 9.86548510e-01,\n",
       "       9.86720101e-01, 9.86889533e-01, 9.87056831e-01, 9.87222021e-01,\n",
       "       9.87385131e-01, 9.87546184e-01, 9.87705208e-01, 9.87862225e-01,\n",
       "       9.88017262e-01, 9.88170342e-01, 9.88321489e-01, 9.88470728e-01,\n",
       "       9.88618081e-01, 9.88763573e-01, 9.88907226e-01, 9.89049063e-01,\n",
       "       9.89189106e-01, 9.89327377e-01, 9.89463898e-01, 9.89598692e-01,\n",
       "       9.89731779e-01, 9.89863181e-01, 9.89992918e-01, 9.90121011e-01,\n",
       "       9.90247481e-01, 9.90372347e-01, 9.90495630e-01, 9.90617350e-01,\n",
       "       9.90737525e-01, 9.90856175e-01, 9.90973319e-01, 9.91088976e-01,\n",
       "       9.91203164e-01, 9.91315902e-01, 9.91427207e-01, 9.91537098e-01,\n",
       "       9.91645592e-01, 9.91752707e-01, 9.91858459e-01, 9.91962867e-01,\n",
       "       9.92065947e-01, 9.92167714e-01, 9.92268187e-01, 9.92367381e-01,\n",
       "       9.92465312e-01, 9.92561995e-01, 9.92657448e-01, 9.92751684e-01,\n",
       "       9.92844720e-01, 9.92936569e-01, 9.93027249e-01, 9.93116772e-01,\n",
       "       9.93205153e-01, 9.93292407e-01, 9.93378549e-01, 9.93463591e-01,\n",
       "       9.93547549e-01, 9.93630434e-01, 9.93712262e-01, 9.93793045e-01,\n",
       "       9.93872797e-01, 9.93951530e-01, 9.94029258e-01, 9.94105992e-01,\n",
       "       9.94181747e-01, 9.94256533e-01, 9.94330363e-01, 9.94403250e-01,\n",
       "       9.94475205e-01, 9.94546240e-01, 9.94616366e-01, 9.94685596e-01,\n",
       "       9.94753940e-01, 9.94821409e-01, 9.94888016e-01, 9.94953770e-01,\n",
       "       9.95018683e-01, 9.95082764e-01, 9.95146026e-01, 9.95208477e-01,\n",
       "       9.95270129e-01, 9.95330991e-01, 9.95391073e-01, 9.95450386e-01,\n",
       "       9.95508940e-01, 9.95566742e-01, 9.95623805e-01, 9.95680136e-01,\n",
       "       9.95735745e-01, 9.95790641e-01, 9.95844833e-01, 9.95898331e-01,\n",
       "       9.95951142e-01, 9.96003276e-01, 9.96054742e-01, 9.96105548e-01,\n",
       "       9.96155702e-01, 9.96205212e-01, 9.96254087e-01, 9.96302335e-01,\n",
       "       9.96349964e-01, 9.96396981e-01, 9.96443395e-01, 9.96489214e-01,\n",
       "       9.96534444e-01, 9.96579093e-01, 9.96623169e-01, 9.96666679e-01,\n",
       "       9.96709631e-01, 9.96752030e-01, 9.96793885e-01, 9.96835203e-01,\n",
       "       9.96875989e-01, 9.96916252e-01, 9.96955997e-01, 9.96995232e-01])"
      ]
     },
     "execution_count": 47,
     "metadata": {},
     "output_type": "execute_result"
    }
   ],
   "source": [
    "X_new = np.linspace(0,3,1000).reshape(-1,1)\n",
    "y_proba = log_reg.predict_proba(X_new)\n",
    "y_proba[:,1]"
   ]
  },
  {
   "cell_type": "code",
   "execution_count": 34,
   "id": "e85b25c4",
   "metadata": {},
   "outputs": [],
   "source": [
    "import matplotlib.pyplot as plt"
   ]
  },
  {
   "cell_type": "code",
   "execution_count": 44,
   "id": "4291130f",
   "metadata": {},
   "outputs": [
    {
     "ename": "ValueError",
     "evalue": "x and y must have same first dimension, but have shapes (1000, 1) and (447,)",
     "output_type": "error",
     "traceback": [
      "\u001b[0;31m---------------------------------------------------------------------------\u001b[0m",
      "\u001b[0;31mValueError\u001b[0m                                Traceback (most recent call last)",
      "Cell \u001b[0;32mIn[44], line 1\u001b[0m\n\u001b[0;32m----> 1\u001b[0m \u001b[43mplt\u001b[49m\u001b[38;5;241;43m.\u001b[39;49m\u001b[43mplot\u001b[49m\u001b[43m(\u001b[49m\u001b[43mX_new\u001b[49m\u001b[43m,\u001b[49m\u001b[43m \u001b[49m\u001b[43my_proba\u001b[49m\u001b[43m[\u001b[49m\u001b[43my_proba\u001b[49m\u001b[38;5;241;43m==\u001b[39;49m\u001b[38;5;241;43m1\u001b[39;49m\u001b[43m]\u001b[49m\u001b[43m,\u001b[49m\u001b[38;5;124;43m\"\u001b[39;49m\u001b[38;5;124;43mg--\u001b[39;49m\u001b[38;5;124;43m\"\u001b[39;49m\u001b[43m,\u001b[49m\u001b[43mlabel\u001b[49m\u001b[38;5;241;43m=\u001b[39;49m\u001b[38;5;124;43m\"\u001b[39;49m\u001b[38;5;124;43mIris virginca\u001b[39;49m\u001b[38;5;124;43m\"\u001b[39;49m\u001b[43m)\u001b[49m\n\u001b[1;32m      2\u001b[0m plt\u001b[38;5;241m.\u001b[39mplot(X_new, y_proba[y_proba\u001b[38;5;241m==\u001b[39m\u001b[38;5;241m0\u001b[39m],\u001b[38;5;124m\"\u001b[39m\u001b[38;5;124mb--\u001b[39m\u001b[38;5;124m\"\u001b[39m,label\u001b[38;5;241m=\u001b[39m\u001b[38;5;124m\"\u001b[39m\u001b[38;5;124mNot-Iris virginca\u001b[39m\u001b[38;5;124m\"\u001b[39m)\n",
      "File \u001b[0;32m~/opt/anaconda3/envs/alltime/lib/python3.10/site-packages/matplotlib/pyplot.py:2740\u001b[0m, in \u001b[0;36mplot\u001b[0;34m(scalex, scaley, data, *args, **kwargs)\u001b[0m\n\u001b[1;32m   2738\u001b[0m \u001b[38;5;129m@_copy_docstring_and_deprecators\u001b[39m(Axes\u001b[38;5;241m.\u001b[39mplot)\n\u001b[1;32m   2739\u001b[0m \u001b[38;5;28;01mdef\u001b[39;00m \u001b[38;5;21mplot\u001b[39m(\u001b[38;5;241m*\u001b[39margs, scalex\u001b[38;5;241m=\u001b[39m\u001b[38;5;28;01mTrue\u001b[39;00m, scaley\u001b[38;5;241m=\u001b[39m\u001b[38;5;28;01mTrue\u001b[39;00m, data\u001b[38;5;241m=\u001b[39m\u001b[38;5;28;01mNone\u001b[39;00m, \u001b[38;5;241m*\u001b[39m\u001b[38;5;241m*\u001b[39mkwargs):\n\u001b[0;32m-> 2740\u001b[0m     \u001b[38;5;28;01mreturn\u001b[39;00m \u001b[43mgca\u001b[49m\u001b[43m(\u001b[49m\u001b[43m)\u001b[49m\u001b[38;5;241;43m.\u001b[39;49m\u001b[43mplot\u001b[49m\u001b[43m(\u001b[49m\n\u001b[1;32m   2741\u001b[0m \u001b[43m        \u001b[49m\u001b[38;5;241;43m*\u001b[39;49m\u001b[43margs\u001b[49m\u001b[43m,\u001b[49m\u001b[43m \u001b[49m\u001b[43mscalex\u001b[49m\u001b[38;5;241;43m=\u001b[39;49m\u001b[43mscalex\u001b[49m\u001b[43m,\u001b[49m\u001b[43m \u001b[49m\u001b[43mscaley\u001b[49m\u001b[38;5;241;43m=\u001b[39;49m\u001b[43mscaley\u001b[49m\u001b[43m,\u001b[49m\n\u001b[1;32m   2742\u001b[0m \u001b[43m        \u001b[49m\u001b[38;5;241;43m*\u001b[39;49m\u001b[38;5;241;43m*\u001b[39;49m\u001b[43m(\u001b[49m\u001b[43m{\u001b[49m\u001b[38;5;124;43m\"\u001b[39;49m\u001b[38;5;124;43mdata\u001b[39;49m\u001b[38;5;124;43m\"\u001b[39;49m\u001b[43m:\u001b[49m\u001b[43m \u001b[49m\u001b[43mdata\u001b[49m\u001b[43m}\u001b[49m\u001b[43m \u001b[49m\u001b[38;5;28;43;01mif\u001b[39;49;00m\u001b[43m \u001b[49m\u001b[43mdata\u001b[49m\u001b[43m \u001b[49m\u001b[38;5;129;43;01mis\u001b[39;49;00m\u001b[43m \u001b[49m\u001b[38;5;129;43;01mnot\u001b[39;49;00m\u001b[43m \u001b[49m\u001b[38;5;28;43;01mNone\u001b[39;49;00m\u001b[43m \u001b[49m\u001b[38;5;28;43;01melse\u001b[39;49;00m\u001b[43m \u001b[49m\u001b[43m{\u001b[49m\u001b[43m}\u001b[49m\u001b[43m)\u001b[49m\u001b[43m,\u001b[49m\u001b[43m \u001b[49m\u001b[38;5;241;43m*\u001b[39;49m\u001b[38;5;241;43m*\u001b[39;49m\u001b[43mkwargs\u001b[49m\u001b[43m)\u001b[49m\n",
      "File \u001b[0;32m~/opt/anaconda3/envs/alltime/lib/python3.10/site-packages/matplotlib/axes/_axes.py:1662\u001b[0m, in \u001b[0;36mAxes.plot\u001b[0;34m(self, scalex, scaley, data, *args, **kwargs)\u001b[0m\n\u001b[1;32m   1419\u001b[0m \u001b[38;5;124;03m\"\"\"\u001b[39;00m\n\u001b[1;32m   1420\u001b[0m \u001b[38;5;124;03mPlot y versus x as lines and/or markers.\u001b[39;00m\n\u001b[1;32m   1421\u001b[0m \n\u001b[0;32m   (...)\u001b[0m\n\u001b[1;32m   1659\u001b[0m \u001b[38;5;124;03m(``'green'``) or hex strings (``'#008000'``).\u001b[39;00m\n\u001b[1;32m   1660\u001b[0m \u001b[38;5;124;03m\"\"\"\u001b[39;00m\n\u001b[1;32m   1661\u001b[0m kwargs \u001b[38;5;241m=\u001b[39m cbook\u001b[38;5;241m.\u001b[39mnormalize_kwargs(kwargs, mlines\u001b[38;5;241m.\u001b[39mLine2D)\n\u001b[0;32m-> 1662\u001b[0m lines \u001b[38;5;241m=\u001b[39m [\u001b[38;5;241m*\u001b[39m\u001b[38;5;28mself\u001b[39m\u001b[38;5;241m.\u001b[39m_get_lines(\u001b[38;5;241m*\u001b[39margs, data\u001b[38;5;241m=\u001b[39mdata, \u001b[38;5;241m*\u001b[39m\u001b[38;5;241m*\u001b[39mkwargs)]\n\u001b[1;32m   1663\u001b[0m \u001b[38;5;28;01mfor\u001b[39;00m line \u001b[38;5;129;01min\u001b[39;00m lines:\n\u001b[1;32m   1664\u001b[0m     \u001b[38;5;28mself\u001b[39m\u001b[38;5;241m.\u001b[39madd_line(line)\n",
      "File \u001b[0;32m~/opt/anaconda3/envs/alltime/lib/python3.10/site-packages/matplotlib/axes/_base.py:311\u001b[0m, in \u001b[0;36m_process_plot_var_args.__call__\u001b[0;34m(self, data, *args, **kwargs)\u001b[0m\n\u001b[1;32m    309\u001b[0m     this \u001b[38;5;241m+\u001b[39m\u001b[38;5;241m=\u001b[39m args[\u001b[38;5;241m0\u001b[39m],\n\u001b[1;32m    310\u001b[0m     args \u001b[38;5;241m=\u001b[39m args[\u001b[38;5;241m1\u001b[39m:]\n\u001b[0;32m--> 311\u001b[0m \u001b[38;5;28;01myield from\u001b[39;00m \u001b[38;5;28;43mself\u001b[39;49m\u001b[38;5;241;43m.\u001b[39;49m\u001b[43m_plot_args\u001b[49m\u001b[43m(\u001b[49m\n\u001b[1;32m    312\u001b[0m \u001b[43m    \u001b[49m\u001b[43mthis\u001b[49m\u001b[43m,\u001b[49m\u001b[43m \u001b[49m\u001b[43mkwargs\u001b[49m\u001b[43m,\u001b[49m\u001b[43m \u001b[49m\u001b[43mambiguous_fmt_datakey\u001b[49m\u001b[38;5;241;43m=\u001b[39;49m\u001b[43mambiguous_fmt_datakey\u001b[49m\u001b[43m)\u001b[49m\n",
      "File \u001b[0;32m~/opt/anaconda3/envs/alltime/lib/python3.10/site-packages/matplotlib/axes/_base.py:504\u001b[0m, in \u001b[0;36m_process_plot_var_args._plot_args\u001b[0;34m(self, tup, kwargs, return_kwargs, ambiguous_fmt_datakey)\u001b[0m\n\u001b[1;32m    501\u001b[0m     \u001b[38;5;28mself\u001b[39m\u001b[38;5;241m.\u001b[39maxes\u001b[38;5;241m.\u001b[39myaxis\u001b[38;5;241m.\u001b[39mupdate_units(y)\n\u001b[1;32m    503\u001b[0m \u001b[38;5;28;01mif\u001b[39;00m x\u001b[38;5;241m.\u001b[39mshape[\u001b[38;5;241m0\u001b[39m] \u001b[38;5;241m!=\u001b[39m y\u001b[38;5;241m.\u001b[39mshape[\u001b[38;5;241m0\u001b[39m]:\n\u001b[0;32m--> 504\u001b[0m     \u001b[38;5;28;01mraise\u001b[39;00m \u001b[38;5;167;01mValueError\u001b[39;00m(\u001b[38;5;124mf\u001b[39m\u001b[38;5;124m\"\u001b[39m\u001b[38;5;124mx and y must have same first dimension, but \u001b[39m\u001b[38;5;124m\"\u001b[39m\n\u001b[1;32m    505\u001b[0m                      \u001b[38;5;124mf\u001b[39m\u001b[38;5;124m\"\u001b[39m\u001b[38;5;124mhave shapes \u001b[39m\u001b[38;5;132;01m{\u001b[39;00mx\u001b[38;5;241m.\u001b[39mshape\u001b[38;5;132;01m}\u001b[39;00m\u001b[38;5;124m and \u001b[39m\u001b[38;5;132;01m{\u001b[39;00my\u001b[38;5;241m.\u001b[39mshape\u001b[38;5;132;01m}\u001b[39;00m\u001b[38;5;124m\"\u001b[39m)\n\u001b[1;32m    506\u001b[0m \u001b[38;5;28;01mif\u001b[39;00m x\u001b[38;5;241m.\u001b[39mndim \u001b[38;5;241m>\u001b[39m \u001b[38;5;241m2\u001b[39m \u001b[38;5;129;01mor\u001b[39;00m y\u001b[38;5;241m.\u001b[39mndim \u001b[38;5;241m>\u001b[39m \u001b[38;5;241m2\u001b[39m:\n\u001b[1;32m    507\u001b[0m     \u001b[38;5;28;01mraise\u001b[39;00m \u001b[38;5;167;01mValueError\u001b[39;00m(\u001b[38;5;124mf\u001b[39m\u001b[38;5;124m\"\u001b[39m\u001b[38;5;124mx and y can be no greater than 2D, but have \u001b[39m\u001b[38;5;124m\"\u001b[39m\n\u001b[1;32m    508\u001b[0m                      \u001b[38;5;124mf\u001b[39m\u001b[38;5;124m\"\u001b[39m\u001b[38;5;124mshapes \u001b[39m\u001b[38;5;132;01m{\u001b[39;00mx\u001b[38;5;241m.\u001b[39mshape\u001b[38;5;132;01m}\u001b[39;00m\u001b[38;5;124m and \u001b[39m\u001b[38;5;132;01m{\u001b[39;00my\u001b[38;5;241m.\u001b[39mshape\u001b[38;5;132;01m}\u001b[39;00m\u001b[38;5;124m\"\u001b[39m)\n",
      "\u001b[0;31mValueError\u001b[0m: x and y must have same first dimension, but have shapes (1000, 1) and (447,)"
     ]
    },
    {
     "data": {
      "image/png": "[encoded data removed]",
      "text/plain": [
       "<Figure size 640x480 with 1 Axes>"
      ]
     },
     "metadata": {},
     "output_type": "display_data"
    }
   ],
   "source": [
    "plt.plot(X_new, y_proba[y_proba==1],\"g--\",label=\"Iris virginca\")\n",
    "plt.plot(X_new, y_proba[y_proba==0],\"b--\",label=\"Not-Iris virginca\")\n"
   ]
  },
  {
   "cell_type": "code",
   "execution_count": null,
   "id": "509d49de",
   "metadata": {},
   "outputs": [],
   "source": []
  }
 ],
 "metadata": {
  "kernelspec": {
   "display_name": "Python [conda env:alltime]",
   "language": "python",
   "name": "conda-env-alltime-py"
  },
  "language_info": {
   "codemirror_mode": {
    "name": "ipython",
    "version": 3
   },
   "file_extension": ".py",
   "mimetype": "text/x-python",
   "name": "python",
   "nbconvert_exporter": "python",
   "pygments_lexer": "ipython3",
   "version": "3.10.9"
  }
 },
 "nbformat": 4,
 "nbformat_minor": 5
}
